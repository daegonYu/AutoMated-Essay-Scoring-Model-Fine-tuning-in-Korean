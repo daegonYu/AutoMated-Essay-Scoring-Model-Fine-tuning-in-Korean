{
 "cells": [
  {
   "cell_type": "code",
   "execution_count": 2,
   "metadata": {},
   "outputs": [
    {
     "data": {
      "text/html": [
       "<div>\n",
       "<style scoped>\n",
       "    .dataframe tbody tr th:only-of-type {\n",
       "        vertical-align: middle;\n",
       "    }\n",
       "\n",
       "    .dataframe tbody tr th {\n",
       "        vertical-align: top;\n",
       "    }\n",
       "\n",
       "    .dataframe thead th {\n",
       "        text-align: right;\n",
       "    }\n",
       "</style>\n",
       "<table border=\"1\" class=\"dataframe\">\n",
       "  <thead>\n",
       "    <tr style=\"text-align: right;\">\n",
       "      <th></th>\n",
       "      <th>sentence</th>\n",
       "      <th>label</th>\n",
       "    </tr>\n",
       "  </thead>\n",
       "  <tbody>\n",
       "    <tr>\n",
       "      <td>0</td>\n",
       "      <td>Many people have different views and opinions ...</td>\n",
       "      <td>4</td>\n",
       "    </tr>\n",
       "    <tr>\n",
       "      <td>1</td>\n",
       "      <td>What happened to everyone having the right to ...</td>\n",
       "      <td>4</td>\n",
       "    </tr>\n",
       "    <tr>\n",
       "      <td>2</td>\n",
       "      <td>I do not think that libraries or any one shoul...</td>\n",
       "      <td>3</td>\n",
       "    </tr>\n",
       "    <tr>\n",
       "      <td>3</td>\n",
       "      <td>To @CAPS1 it @MONTH1 @CAPS2:     @CAPS3 I walk...</td>\n",
       "      <td>3</td>\n",
       "    </tr>\n",
       "    <tr>\n",
       "      <td>4</td>\n",
       "      <td>Libraries have books, magizines, movies, ect.T...</td>\n",
       "      <td>3</td>\n",
       "    </tr>\n",
       "    <tr>\n",
       "      <td>...</td>\n",
       "      <td>...</td>\n",
       "      <td>...</td>\n",
       "    </tr>\n",
       "    <tr>\n",
       "      <td>715</td>\n",
       "      <td>Censorship is a growing problem is today's wor...</td>\n",
       "      <td>4</td>\n",
       "    </tr>\n",
       "    <tr>\n",
       "      <td>716</td>\n",
       "      <td>A @CAPS1 is a place for people of all ages to ...</td>\n",
       "      <td>4</td>\n",
       "    </tr>\n",
       "    <tr>\n",
       "      <td>717</td>\n",
       "      <td>Censorship in the world is getting worse every...</td>\n",
       "      <td>4</td>\n",
       "    </tr>\n",
       "    <tr>\n",
       "      <td>718</td>\n",
       "      <td>Maybe, to a sense I do not think that boo'ks s...</td>\n",
       "      <td>4</td>\n",
       "    </tr>\n",
       "    <tr>\n",
       "      <td>719</td>\n",
       "      <td>Some books in libraries offended some people. ...</td>\n",
       "      <td>2</td>\n",
       "    </tr>\n",
       "  </tbody>\n",
       "</table>\n",
       "<p>720 rows × 2 columns</p>\n",
       "</div>"
      ],
      "text/plain": [
       "                                              sentence  label\n",
       "0    Many people have different views and opinions ...      4\n",
       "1    What happened to everyone having the right to ...      4\n",
       "2    I do not think that libraries or any one shoul...      3\n",
       "3    To @CAPS1 it @MONTH1 @CAPS2:     @CAPS3 I walk...      3\n",
       "4    Libraries have books, magizines, movies, ect.T...      3\n",
       "..                                                 ...    ...\n",
       "715  Censorship is a growing problem is today's wor...      4\n",
       "716  A @CAPS1 is a place for people of all ages to ...      4\n",
       "717  Censorship in the world is getting worse every...      4\n",
       "718  Maybe, to a sense I do not think that boo'ks s...      4\n",
       "719  Some books in libraries offended some people. ...      2\n",
       "\n",
       "[720 rows x 2 columns]"
      ]
     },
     "execution_count": 2,
     "metadata": {},
     "output_type": "execute_result"
    }
   ],
   "source": [
    "import pandas as pd\n",
    "\n",
    "d = pd.read_csv('/home/daegon/Multi-Scale-BERT-AES/asap/2_test.csv', index_col=0)\n",
    "d"
   ]
  },
  {
   "cell_type": "code",
   "execution_count": 3,
   "metadata": {},
   "outputs": [],
   "source": [
    "# astype : dtype 변경하기\n",
    "d['label'] = d['label'].astype('float')"
   ]
  },
  {
   "cell_type": "code",
   "execution_count": 4,
   "metadata": {},
   "outputs": [],
   "source": [
    "d.to_csv('ex.txt', sep='\\t')"
   ]
  },
  {
   "cell_type": "code",
   "execution_count": 3,
   "metadata": {},
   "outputs": [],
   "source": [
    "import pandas as pd\n",
    "essays = pd.read_csv('./korproject/AIHUB_대안제시_주장.csv', index_col=0)"
   ]
  },
  {
   "cell_type": "code",
   "execution_count": 4,
   "metadata": {},
   "outputs": [
    {
     "data": {
      "text/html": [
       "<div>\n",
       "<style scoped>\n",
       "    .dataframe tbody tr th:only-of-type {\n",
       "        vertical-align: middle;\n",
       "    }\n",
       "\n",
       "    .dataframe tbody tr th {\n",
       "        vertical-align: top;\n",
       "    }\n",
       "\n",
       "    .dataframe thead th {\n",
       "        text-align: right;\n",
       "    }\n",
       "</style>\n",
       "<table border=\"1\" class=\"dataframe\">\n",
       "  <thead>\n",
       "    <tr style=\"text-align: right;\">\n",
       "      <th></th>\n",
       "      <th>essay_txt</th>\n",
       "    </tr>\n",
       "  </thead>\n",
       "  <tbody>\n",
       "    <tr>\n",
       "      <th>0</th>\n",
       "      <td>혐오시설을 설치하는것은 당연하게도 반발을 얻을 수 밖에 없다. #@문장구분#그이유로...</td>\n",
       "    </tr>\n",
       "    <tr>\n",
       "      <th>1</th>\n",
       "      <td>동물장묘시설을 건설함으로써 발생하는 여러 가지 문제들을 해결하기 위한 대안이 몇 가...</td>\n",
       "    </tr>\n",
       "    <tr>\n",
       "      <th>2</th>\n",
       "      <td>하수처리장을 설치하면 좋지않은 외관과 약취의 문제는 피할 수 없다.#@문장구분# 그...</td>\n",
       "    </tr>\n",
       "    <tr>\n",
       "      <th>3</th>\n",
       "      <td>만약, 당신의 집 옆에 쓰레기 매립지를 만든다고 하면 당신은 어떤 반응을 보일까요?...</td>\n",
       "    </tr>\n",
       "    <tr>\n",
       "      <th>4</th>\n",
       "      <td>이번 여름 전주의 한 마을에서 폐기물 매립지가 악취와 주변 지역의 쾌적성이 훼손된다...</td>\n",
       "    </tr>\n",
       "    <tr>\n",
       "      <th>...</th>\n",
       "      <td>...</td>\n",
       "    </tr>\n",
       "    <tr>\n",
       "      <th>13750</th>\n",
       "      <td>요즘 여러가지의 학교폭력이 자주 일어나고 있습니다.#@문장구분# 그로인해 여러가지 ...</td>\n",
       "    </tr>\n",
       "    <tr>\n",
       "      <th>13751</th>\n",
       "      <td>요즘 많은 아이들이 학교폭력을 겪고있습니다.#@문장구분# 학교폭력에는 많은 종류가 ...</td>\n",
       "    </tr>\n",
       "    <tr>\n",
       "      <th>13752</th>\n",
       "      <td>학교 폭력을 줄이기 위해 우리 같은 학생들이 할 수 있는 일은 생각보다 많습니다.#...</td>\n",
       "    </tr>\n",
       "    <tr>\n",
       "      <th>13753</th>\n",
       "      <td>요즈음 학교에서 학교폭력, 사이버 폭력을 당하는 학생이 늘어 사회적 문제가 되고 있...</td>\n",
       "    </tr>\n",
       "    <tr>\n",
       "      <th>13754</th>\n",
       "      <td>학교폭력, 어떻게 줄일까?#@문장구분#\\n요즘, 학교에서 폭력이 점점늘어나고있다.#...</td>\n",
       "    </tr>\n",
       "  </tbody>\n",
       "</table>\n",
       "<p>13755 rows × 1 columns</p>\n",
       "</div>"
      ],
      "text/plain": [
       "                                               essay_txt\n",
       "0      혐오시설을 설치하는것은 당연하게도 반발을 얻을 수 밖에 없다. #@문장구분#그이유로...\n",
       "1      동물장묘시설을 건설함으로써 발생하는 여러 가지 문제들을 해결하기 위한 대안이 몇 가...\n",
       "2      하수처리장을 설치하면 좋지않은 외관과 약취의 문제는 피할 수 없다.#@문장구분# 그...\n",
       "3      만약, 당신의 집 옆에 쓰레기 매립지를 만든다고 하면 당신은 어떤 반응을 보일까요?...\n",
       "4      이번 여름 전주의 한 마을에서 폐기물 매립지가 악취와 주변 지역의 쾌적성이 훼손된다...\n",
       "...                                                  ...\n",
       "13750  요즘 여러가지의 학교폭력이 자주 일어나고 있습니다.#@문장구분# 그로인해 여러가지 ...\n",
       "13751  요즘 많은 아이들이 학교폭력을 겪고있습니다.#@문장구분# 학교폭력에는 많은 종류가 ...\n",
       "13752  학교 폭력을 줄이기 위해 우리 같은 학생들이 할 수 있는 일은 생각보다 많습니다.#...\n",
       "13753  요즈음 학교에서 학교폭력, 사이버 폭력을 당하는 학생이 늘어 사회적 문제가 되고 있...\n",
       "13754  학교폭력, 어떻게 줄일까?#@문장구분#\\n요즘, 학교에서 폭력이 점점늘어나고있다.#...\n",
       "\n",
       "[13755 rows x 1 columns]"
      ]
     },
     "execution_count": 4,
     "metadata": {},
     "output_type": "execute_result"
    }
   ],
   "source": [
    "essays"
   ]
  },
  {
   "cell_type": "code",
   "execution_count": 7,
   "metadata": {},
   "outputs": [
    {
     "data": {
      "text/plain": [
       "array([1, 2])"
      ]
     },
     "execution_count": 7,
     "metadata": {},
     "output_type": "execute_result"
    }
   ],
   "source": [
    "import numpy as np\n",
    "\n",
    "a = np.array([1])\n",
    "b = 2\n",
    "np.append(a,b)"
   ]
  },
  {
   "cell_type": "code",
   "execution_count": 10,
   "metadata": {},
   "outputs": [
    {
     "data": {
      "text/plain": [
       "(36.15575499818248, 41.778463831334065, 46.41208724100327)"
      ]
     },
     "execution_count": 10,
     "metadata": {},
     "output_type": "execute_result"
    }
   ],
   "source": [
    "logical_point = np.load('../loss_eval/aihub_point/logical.npy')\n",
    "novelty_point = np.load('../loss_eval/aihub_point/novelty.npy')\n",
    "persuasive_point = np.load('../loss_eval/aihub_point/persuasive.npy')\n",
    "logical_point.mean(),novelty_point.mean(),persuasive_point.mean()"
   ]
  },
  {
   "cell_type": "code",
   "execution_count": 18,
   "metadata": {},
   "outputs": [
    {
     "data": {
      "text/html": [
       "<div>\n",
       "<style scoped>\n",
       "    .dataframe tbody tr th:only-of-type {\n",
       "        vertical-align: middle;\n",
       "    }\n",
       "\n",
       "    .dataframe tbody tr th {\n",
       "        vertical-align: top;\n",
       "    }\n",
       "\n",
       "    .dataframe thead th {\n",
       "        text-align: right;\n",
       "    }\n",
       "</style>\n",
       "<table border=\"1\" class=\"dataframe\">\n",
       "  <thead>\n",
       "    <tr style=\"text-align: right;\">\n",
       "      <th></th>\n",
       "      <th>essay_txt</th>\n",
       "    </tr>\n",
       "  </thead>\n",
       "  <tbody>\n",
       "    <tr>\n",
       "      <th>0</th>\n",
       "      <td>혐오시설을 설치하는것은 당연하게도 반발을 얻을 수 밖에 없다. #@문장구분#그이유로...</td>\n",
       "    </tr>\n",
       "    <tr>\n",
       "      <th>1</th>\n",
       "      <td>동물장묘시설을 건설함으로써 발생하는 여러 가지 문제들을 해결하기 위한 대안이 몇 가...</td>\n",
       "    </tr>\n",
       "    <tr>\n",
       "      <th>2</th>\n",
       "      <td>하수처리장을 설치하면 좋지않은 외관과 약취의 문제는 피할 수 없다.#@문장구분# 그...</td>\n",
       "    </tr>\n",
       "    <tr>\n",
       "      <th>3</th>\n",
       "      <td>만약, 당신의 집 옆에 쓰레기 매립지를 만든다고 하면 당신은 어떤 반응을 보일까요?...</td>\n",
       "    </tr>\n",
       "    <tr>\n",
       "      <th>4</th>\n",
       "      <td>이번 여름 전주의 한 마을에서 폐기물 매립지가 악취와 주변 지역의 쾌적성이 훼손된다...</td>\n",
       "    </tr>\n",
       "    <tr>\n",
       "      <th>...</th>\n",
       "      <td>...</td>\n",
       "    </tr>\n",
       "    <tr>\n",
       "      <th>13750</th>\n",
       "      <td>요즘 여러가지의 학교폭력이 자주 일어나고 있습니다.#@문장구분# 그로인해 여러가지 ...</td>\n",
       "    </tr>\n",
       "    <tr>\n",
       "      <th>13751</th>\n",
       "      <td>요즘 많은 아이들이 학교폭력을 겪고있습니다.#@문장구분# 학교폭력에는 많은 종류가 ...</td>\n",
       "    </tr>\n",
       "    <tr>\n",
       "      <th>13752</th>\n",
       "      <td>학교 폭력을 줄이기 위해 우리 같은 학생들이 할 수 있는 일은 생각보다 많습니다.#...</td>\n",
       "    </tr>\n",
       "    <tr>\n",
       "      <th>13753</th>\n",
       "      <td>요즈음 학교에서 학교폭력, 사이버 폭력을 당하는 학생이 늘어 사회적 문제가 되고 있...</td>\n",
       "    </tr>\n",
       "    <tr>\n",
       "      <th>13754</th>\n",
       "      <td>학교폭력, 어떻게 줄일까?#@문장구분#\\n요즘, 학교에서 폭력이 점점늘어나고있다.#...</td>\n",
       "    </tr>\n",
       "  </tbody>\n",
       "</table>\n",
       "<p>13755 rows × 1 columns</p>\n",
       "</div>"
      ],
      "text/plain": [
       "                                               essay_txt\n",
       "0      혐오시설을 설치하는것은 당연하게도 반발을 얻을 수 밖에 없다. #@문장구분#그이유로...\n",
       "1      동물장묘시설을 건설함으로써 발생하는 여러 가지 문제들을 해결하기 위한 대안이 몇 가...\n",
       "2      하수처리장을 설치하면 좋지않은 외관과 약취의 문제는 피할 수 없다.#@문장구분# 그...\n",
       "3      만약, 당신의 집 옆에 쓰레기 매립지를 만든다고 하면 당신은 어떤 반응을 보일까요?...\n",
       "4      이번 여름 전주의 한 마을에서 폐기물 매립지가 악취와 주변 지역의 쾌적성이 훼손된다...\n",
       "...                                                  ...\n",
       "13750  요즘 여러가지의 학교폭력이 자주 일어나고 있습니다.#@문장구분# 그로인해 여러가지 ...\n",
       "13751  요즘 많은 아이들이 학교폭력을 겪고있습니다.#@문장구분# 학교폭력에는 많은 종류가 ...\n",
       "13752  학교 폭력을 줄이기 위해 우리 같은 학생들이 할 수 있는 일은 생각보다 많습니다.#...\n",
       "13753  요즈음 학교에서 학교폭력, 사이버 폭력을 당하는 학생이 늘어 사회적 문제가 되고 있...\n",
       "13754  학교폭력, 어떻게 줄일까?#@문장구분#\\n요즘, 학교에서 폭력이 점점늘어나고있다.#...\n",
       "\n",
       "[13755 rows x 1 columns]"
      ]
     },
     "execution_count": 18,
     "metadata": {},
     "output_type": "execute_result"
    }
   ],
   "source": [
    "import pandas as pd\n",
    "\n",
    "df1 = pd.read_csv('./korproject/AIHUB_대안제시_주장.csv', index_col=0)\n",
    "df1"
   ]
  },
  {
   "cell_type": "code",
   "execution_count": 11,
   "metadata": {},
   "outputs": [
    {
     "data": {
      "text/plain": [
       "13755"
      ]
     },
     "execution_count": 11,
     "metadata": {},
     "output_type": "execute_result"
    }
   ],
   "source": [
    "len(df1)"
   ]
  },
  {
   "cell_type": "code",
   "execution_count": 13,
   "metadata": {},
   "outputs": [
    {
     "data": {
      "text/plain": [
       "\"만약, 당신의 집 옆에 쓰레기 매립지를 만든다고 하면 당신은 어떤 반응을 보일까요?#@문장구분# 그 사실이 너무 기뻐 좋아할까요?#@문장구분# 예전부터 지금도 여전히 쓰레기 매립지, 소각장, 원자력 발전소에 대한 인식은 좋지 않습니다.#@문장구분# 하지만 우리는 그것들 없이 살기 어렵습니다.#@문장구분# 어떻게 하면 이것들을 해결할 수 있을까요?#@문장구분#\\n\\n 첫째, 저는 입주민이나 아파트관리자에게 더욱 공론화하였으면 좋겠다.#@문장구분# 대전의 어떤 아파트에서는 입주민들이 입주 취소를 할까 두려워 아파트회사가 몰래 일을 진행하고자 했습니다.#@문장구분# 원래 아파트 옆 쓰레기 매립지도 싫었는데 거기에다가 몰래 일을 추진하는 것은 서로에게 예의가 아닙니다.#@문장구분# 더 자세하고 오랫동안 계획을 주고받고, 최대한 믿음을 주면 이 공론화 계획은 쓰레기 매립지를 아파트 옆에 설치해도 되게끔 만들 수 있습니다.#@문장구분#\\n\\n두 번째, 시설관리에 더욱 신경을 쓰는 것입니다.#@문장구분# 우리가 쓰레기 매립을 생각하면 떠오르는 부정적인 생각은 부실한 시설입니다.#@문장구분# 매립시설을 쾌적하게 지을 수는 없어도 불쾌감을 덜 일으키도록 짓고자 노력해야 합니다.#@문장구분# \\n\\n세 번째, 안좋은 물질을 최소화하는 것입니다.#@문장구분# 쓰레기를 소각하면 '다이옥산'과 같은 좋지 않은 물질들이 많이 나옵니다.#@문장구분# 우리가 생활하면 어쩔 수 없이 쓰레기를 처리해야 하는데 이 쓰레기를 아파트 옆에서 처리하는 불안감과 위험으로 모두들 꺼려합니다.#@문장구분# 그러한 위험물질을 덜 위험하게 처리할 수 있는 방법을 고안하면 쓰레기 매립지를 설치하는 것이 안전문제에서 덜 꺼려질 것입니다.#@문장구분#\\n\\n 우리가 만든 쓰레기는 우리가 처리해야 하고 줄여나가기 위해 노력을 해야 합니다.#@문장구분# 땅이 있는 한 더 많은 아파트들이 만들어질 것이고 아파트 옆 쓰레기 매립지는 당연해질 것입니다.#@문장구분#그러므로 아파트 옆 쓰레기 매립지는 설치되어야 합니다.#@문장구분#\""
      ]
     },
     "execution_count": 13,
     "metadata": {},
     "output_type": "execute_result"
    }
   ],
   "source": [
    "df1.loc[3][0]"
   ]
  },
  {
   "cell_type": "code",
   "execution_count": 16,
   "metadata": {},
   "outputs": [
    {
     "data": {
      "text/plain": [
       "\"만약, 당신의 집 옆에 쓰레기 매립지를 만든다고 하면 당신은 어떤 반응을 보일까요?#@문장구분# 그 사실이 너무 기뻐 좋아할까요?#@문장구분# 예전부터 지금도 여전히 쓰레기 매립지, 소각장, 원자력 발전소에 대한 인식은 좋지 않습니다.#@문장구분# 하지만 우리는 그것들 없이 살기 어렵습니다.#@문장구분# 어떻게 하면 이것들을 해결할 수 있을까요?#@문장구분#\\n\\n 첫째, 저는 입주민이나 아파트관리자에게 더욱 공론화하였으면 좋겠다.#@문장구분# 대전의 어떤 아파트에서는 입주민들이 입주 취소를 할까 두려워 아파트회사가 몰래 일을 진행하고자 했습니다.#@문장구분# 원래 아파트 옆 쓰레기 매립지도 싫었는데 거기에다가 몰래 일을 추진하는 것은 서로에게 예의가 아닙니다.#@문장구분# 더 자세하고 오랫동안 계획을 주고받고, 최대한 믿음을 주면 이 공론화 계획은 쓰레기 매립지를 아파트 옆에 설치해도 되게끔 만들 수 있습니다.#@문장구분#\\n\\n두 번째, 시설관리에 더욱 신경을 쓰는 것입니다.#@문장구분# 우리가 쓰레기 매립을 생각하면 떠오르는 부정적인 생각은 부실한 시설입니다.#@문장구분# 매립시설을 쾌적하게 지을 수는 없어도 불쾌감을 덜 일으키도록 짓고자 노력해야 합니다.#@문장구분# \\n\\n세 번째, 안좋은 물질을 최소화하는 것입니다.#@문장구분# 쓰레기를 소각하면 '다이옥산'과 같은 좋지 않은 물질들이 많이 나옵니다.#@문장구분# 우리가 생활하면 어쩔 수 없이 쓰레기를 처리해야 하는데 이 쓰레기를 아파트 옆에서 처리하는 불안감과 위험으로 모두들 꺼려합니다.#@문장구분# 그러한 위험물질을 덜 위험하게 처리할 수 있는 방법을 고안하면 쓰레기 매립지를 설치하는 것이 안전문제에서 덜 꺼려질 것입니다.#@문장구분#\\n\\n 우리가 만든 쓰레기는 우리가 처리해야 하고 줄여나가기 위해 노력을 해야 합니다.#@문장구분# 땅이 있는 한 더 많은 아파트들이 만들어질 것이고 아파트 옆 쓰레기 매립지는 당연해질 것입니다.#@문장구분#그러므로 아파트 옆 쓰레기 매립지는 설치되어야 합니다.#@문장구분#\""
      ]
     },
     "execution_count": 16,
     "metadata": {},
     "output_type": "execute_result"
    }
   ],
   "source": [
    "df1.iloc[3,0]"
   ]
  },
  {
   "cell_type": "code",
   "execution_count": 19,
   "metadata": {},
   "outputs": [
    {
     "data": {
      "text/html": [
       "<div>\n",
       "<style scoped>\n",
       "    .dataframe tbody tr th:only-of-type {\n",
       "        vertical-align: middle;\n",
       "    }\n",
       "\n",
       "    .dataframe tbody tr th {\n",
       "        vertical-align: top;\n",
       "    }\n",
       "\n",
       "    .dataframe thead th {\n",
       "        text-align: right;\n",
       "    }\n",
       "</style>\n",
       "<table border=\"1\" class=\"dataframe\">\n",
       "  <thead>\n",
       "    <tr style=\"text-align: right;\">\n",
       "      <th></th>\n",
       "      <th>essay_txt</th>\n",
       "    </tr>\n",
       "  </thead>\n",
       "  <tbody>\n",
       "    <tr>\n",
       "      <th>0</th>\n",
       "      <td>혐오시설을 설치하는것은 당연하게도 반발을 얻을 수 밖에 없다.  그이유로는 혐오시설...</td>\n",
       "    </tr>\n",
       "    <tr>\n",
       "      <th>1</th>\n",
       "      <td>동물장묘시설을 건설함으로써 발생하는 여러 가지 문제들을 해결하기 위한 대안이 몇 가...</td>\n",
       "    </tr>\n",
       "    <tr>\n",
       "      <th>2</th>\n",
       "      <td>하수처리장을 설치하면 좋지않은 외관과 약취의 문제는 피할 수 없다.  그로인해 지역...</td>\n",
       "    </tr>\n",
       "    <tr>\n",
       "      <th>3</th>\n",
       "      <td>만약, 당신의 집 옆에 쓰레기 매립지를 만든다고 하면 당신은 어떤 반응을 보일까요?...</td>\n",
       "    </tr>\n",
       "    <tr>\n",
       "      <th>4</th>\n",
       "      <td>이번 여름 전주의 한 마을에서 폐기물 매립지가 악취와 주변 지역의 쾌적성이 훼손된다...</td>\n",
       "    </tr>\n",
       "    <tr>\n",
       "      <th>...</th>\n",
       "      <td>...</td>\n",
       "    </tr>\n",
       "    <tr>\n",
       "      <th>13750</th>\n",
       "      <td>요즘 여러가지의 학교폭력이 자주 일어나고 있습니다.  그로인해 여러가지 방안들에대한...</td>\n",
       "    </tr>\n",
       "    <tr>\n",
       "      <th>13751</th>\n",
       "      <td>요즘 많은 아이들이 학교폭력을 겪고있습니다.  학교폭력에는 많은 종류가 있는대요, ...</td>\n",
       "    </tr>\n",
       "    <tr>\n",
       "      <th>13752</th>\n",
       "      <td>학교 폭력을 줄이기 위해 우리 같은 학생들이 할 수 있는 일은 생각보다 많습니다. ...</td>\n",
       "    </tr>\n",
       "    <tr>\n",
       "      <th>13753</th>\n",
       "      <td>요즈음 학교에서 학교폭력, 사이버 폭력을 당하는 학생이 늘어 사회적 문제가 되고 있...</td>\n",
       "    </tr>\n",
       "    <tr>\n",
       "      <th>13754</th>\n",
       "      <td>학교폭력, 어떻게 줄일까? \\n요즘, 학교에서 폭력이 점점늘어나고있다.  우리는 어...</td>\n",
       "    </tr>\n",
       "  </tbody>\n",
       "</table>\n",
       "<p>13755 rows × 1 columns</p>\n",
       "</div>"
      ],
      "text/plain": [
       "                                               essay_txt\n",
       "0      혐오시설을 설치하는것은 당연하게도 반발을 얻을 수 밖에 없다.  그이유로는 혐오시설...\n",
       "1      동물장묘시설을 건설함으로써 발생하는 여러 가지 문제들을 해결하기 위한 대안이 몇 가...\n",
       "2      하수처리장을 설치하면 좋지않은 외관과 약취의 문제는 피할 수 없다.  그로인해 지역...\n",
       "3      만약, 당신의 집 옆에 쓰레기 매립지를 만든다고 하면 당신은 어떤 반응을 보일까요?...\n",
       "4      이번 여름 전주의 한 마을에서 폐기물 매립지가 악취와 주변 지역의 쾌적성이 훼손된다...\n",
       "...                                                  ...\n",
       "13750  요즘 여러가지의 학교폭력이 자주 일어나고 있습니다.  그로인해 여러가지 방안들에대한...\n",
       "13751  요즘 많은 아이들이 학교폭력을 겪고있습니다.  학교폭력에는 많은 종류가 있는대요, ...\n",
       "13752  학교 폭력을 줄이기 위해 우리 같은 학생들이 할 수 있는 일은 생각보다 많습니다. ...\n",
       "13753  요즈음 학교에서 학교폭력, 사이버 폭력을 당하는 학생이 늘어 사회적 문제가 되고 있...\n",
       "13754  학교폭력, 어떻게 줄일까? \\n요즘, 학교에서 폭력이 점점늘어나고있다.  우리는 어...\n",
       "\n",
       "[13755 rows x 1 columns]"
      ]
     },
     "execution_count": 19,
     "metadata": {},
     "output_type": "execute_result"
    }
   ],
   "source": [
    "for i in range(len(df1)):\n",
    "    df1.iloc[i,0] = df1.iloc[i,0].replace('#@문장구분#',\" \").strip()\n",
    "df1"
   ]
  },
  {
   "cell_type": "code",
   "execution_count": 20,
   "metadata": {},
   "outputs": [
    {
     "data": {
      "text/html": [
       "<div>\n",
       "<style scoped>\n",
       "    .dataframe tbody tr th:only-of-type {\n",
       "        vertical-align: middle;\n",
       "    }\n",
       "\n",
       "    .dataframe tbody tr th {\n",
       "        vertical-align: top;\n",
       "    }\n",
       "\n",
       "    .dataframe thead th {\n",
       "        text-align: right;\n",
       "    }\n",
       "</style>\n",
       "<table border=\"1\" class=\"dataframe\">\n",
       "  <thead>\n",
       "    <tr style=\"text-align: right;\">\n",
       "      <th></th>\n",
       "      <th>essay_txt</th>\n",
       "    </tr>\n",
       "  </thead>\n",
       "  <tbody>\n",
       "    <tr>\n",
       "      <th>0</th>\n",
       "      <td>혐오시설을 설치하는것은 당연하게도 반발을 얻을 수 밖에 없다.  그이유로는 혐오시설...</td>\n",
       "    </tr>\n",
       "    <tr>\n",
       "      <th>1</th>\n",
       "      <td>동물장묘시설을 건설함으로써 발생하는 여러 가지 문제들을 해결하기 위한 대안이 몇 가...</td>\n",
       "    </tr>\n",
       "    <tr>\n",
       "      <th>2</th>\n",
       "      <td>하수처리장을 설치하면 좋지않은 외관과 약취의 문제는 피할 수 없다.  그로인해 지역...</td>\n",
       "    </tr>\n",
       "    <tr>\n",
       "      <th>3</th>\n",
       "      <td>만약, 당신의 집 옆에 쓰레기 매립지를 만든다고 하면 당신은 어떤 반응을 보일까요?...</td>\n",
       "    </tr>\n",
       "    <tr>\n",
       "      <th>4</th>\n",
       "      <td>이번 여름 전주의 한 마을에서 폐기물 매립지가 악취와 주변 지역의 쾌적성이 훼손된다...</td>\n",
       "    </tr>\n",
       "    <tr>\n",
       "      <th>...</th>\n",
       "      <td>...</td>\n",
       "    </tr>\n",
       "    <tr>\n",
       "      <th>13750</th>\n",
       "      <td>요즘 여러가지의 학교폭력이 자주 일어나고 있습니다.  그로인해 여러가지 방안들에대한...</td>\n",
       "    </tr>\n",
       "    <tr>\n",
       "      <th>13751</th>\n",
       "      <td>요즘 많은 아이들이 학교폭력을 겪고있습니다.  학교폭력에는 많은 종류가 있는대요, ...</td>\n",
       "    </tr>\n",
       "    <tr>\n",
       "      <th>13752</th>\n",
       "      <td>학교 폭력을 줄이기 위해 우리 같은 학생들이 할 수 있는 일은 생각보다 많습니다. ...</td>\n",
       "    </tr>\n",
       "    <tr>\n",
       "      <th>13753</th>\n",
       "      <td>요즈음 학교에서 학교폭력, 사이버 폭력을 당하는 학생이 늘어 사회적 문제가 되고 있...</td>\n",
       "    </tr>\n",
       "    <tr>\n",
       "      <th>13754</th>\n",
       "      <td>학교폭력, 어떻게 줄일까?  요즘, 학교에서 폭력이 점점늘어나고있다.  우리는 어떻...</td>\n",
       "    </tr>\n",
       "  </tbody>\n",
       "</table>\n",
       "<p>13755 rows × 1 columns</p>\n",
       "</div>"
      ],
      "text/plain": [
       "                                               essay_txt\n",
       "0      혐오시설을 설치하는것은 당연하게도 반발을 얻을 수 밖에 없다.  그이유로는 혐오시설...\n",
       "1      동물장묘시설을 건설함으로써 발생하는 여러 가지 문제들을 해결하기 위한 대안이 몇 가...\n",
       "2      하수처리장을 설치하면 좋지않은 외관과 약취의 문제는 피할 수 없다.  그로인해 지역...\n",
       "3      만약, 당신의 집 옆에 쓰레기 매립지를 만든다고 하면 당신은 어떤 반응을 보일까요?...\n",
       "4      이번 여름 전주의 한 마을에서 폐기물 매립지가 악취와 주변 지역의 쾌적성이 훼손된다...\n",
       "...                                                  ...\n",
       "13750  요즘 여러가지의 학교폭력이 자주 일어나고 있습니다.  그로인해 여러가지 방안들에대한...\n",
       "13751  요즘 많은 아이들이 학교폭력을 겪고있습니다.  학교폭력에는 많은 종류가 있는대요, ...\n",
       "13752  학교 폭력을 줄이기 위해 우리 같은 학생들이 할 수 있는 일은 생각보다 많습니다. ...\n",
       "13753  요즈음 학교에서 학교폭력, 사이버 폭력을 당하는 학생이 늘어 사회적 문제가 되고 있...\n",
       "13754  학교폭력, 어떻게 줄일까?  요즘, 학교에서 폭력이 점점늘어나고있다.  우리는 어떻...\n",
       "\n",
       "[13755 rows x 1 columns]"
      ]
     },
     "execution_count": 20,
     "metadata": {},
     "output_type": "execute_result"
    }
   ],
   "source": [
    "for i in range(len(df1)):\n",
    "    df1.iloc[i,0] = df1.iloc[i,0].replace('\\n',\" \").strip()\n",
    "df1"
   ]
  },
  {
   "cell_type": "code",
   "execution_count": 21,
   "metadata": {},
   "outputs": [],
   "source": [
    "df1.to_csv('./korproject/전처리_AIHUB_대안제시_주장.csv')"
   ]
  },
  {
   "cell_type": "code",
   "execution_count": 6,
   "metadata": {},
   "outputs": [
    {
     "data": {
      "text/html": [
       "<div>\n",
       "<style scoped>\n",
       "    .dataframe tbody tr th:only-of-type {\n",
       "        vertical-align: middle;\n",
       "    }\n",
       "\n",
       "    .dataframe tbody tr th {\n",
       "        vertical-align: top;\n",
       "    }\n",
       "\n",
       "    .dataframe thead th {\n",
       "        text-align: right;\n",
       "    }\n",
       "</style>\n",
       "<table border=\"1\" class=\"dataframe\">\n",
       "  <thead>\n",
       "    <tr style=\"text-align: right;\">\n",
       "      <th></th>\n",
       "      <th>essay_txt</th>\n",
       "    </tr>\n",
       "  </thead>\n",
       "  <tbody>\n",
       "    <tr>\n",
       "      <th>0</th>\n",
       "      <td>혐오시설을 설치하는것은 당연하게도 반발을 얻을 수 밖에 없다. 그이유로는 혐오시설로...</td>\n",
       "    </tr>\n",
       "    <tr>\n",
       "      <th>1</th>\n",
       "      <td>동물장묘시설을 건설함으로써 발생하는 여러 가지 문제들을 해결하기 위한 대안이 몇 가...</td>\n",
       "    </tr>\n",
       "    <tr>\n",
       "      <th>2</th>\n",
       "      <td>하수처리장을 설치하면 좋지않은 외관과 약취의 문제는 피할 수 없다. 그로인해 지역주...</td>\n",
       "    </tr>\n",
       "    <tr>\n",
       "      <th>3</th>\n",
       "      <td>만약, 당신의 집 옆에 쓰레기 매립지를 만든다고 하면 당신은 어떤 반응을 보일까요?...</td>\n",
       "    </tr>\n",
       "    <tr>\n",
       "      <th>4</th>\n",
       "      <td>이번 여름 전주의 한 마을에서 폐기물 매립지가 악취와 주변 지역의 쾌적성이 훼손된다...</td>\n",
       "    </tr>\n",
       "    <tr>\n",
       "      <th>...</th>\n",
       "      <td>...</td>\n",
       "    </tr>\n",
       "    <tr>\n",
       "      <th>13750</th>\n",
       "      <td>요즘 여러가지의 학교폭력이 자주 일어나고 있습니다. 그로인해 여러가지 방안들에대한 ...</td>\n",
       "    </tr>\n",
       "    <tr>\n",
       "      <th>13751</th>\n",
       "      <td>요즘 많은 아이들이 학교폭력을 겪고있습니다. 학교폭력에는 많은 종류가 있는대요, 신...</td>\n",
       "    </tr>\n",
       "    <tr>\n",
       "      <th>13752</th>\n",
       "      <td>학교 폭력을 줄이기 위해 우리 같은 학생들이 할 수 있는 일은 생각보다 많습니다. ...</td>\n",
       "    </tr>\n",
       "    <tr>\n",
       "      <th>13753</th>\n",
       "      <td>요즈음 학교에서 학교폭력, 사이버 폭력을 당하는 학생이 늘어 사회적 문제가 되고 있...</td>\n",
       "    </tr>\n",
       "    <tr>\n",
       "      <th>13754</th>\n",
       "      <td>학교폭력, 어떻게 줄일까? 요즘, 학교에서 폭력이 점점늘어나고있다. 우리는 어떻게 ...</td>\n",
       "    </tr>\n",
       "  </tbody>\n",
       "</table>\n",
       "<p>13755 rows × 1 columns</p>\n",
       "</div>"
      ],
      "text/plain": [
       "                                               essay_txt\n",
       "0      혐오시설을 설치하는것은 당연하게도 반발을 얻을 수 밖에 없다. 그이유로는 혐오시설로...\n",
       "1      동물장묘시설을 건설함으로써 발생하는 여러 가지 문제들을 해결하기 위한 대안이 몇 가...\n",
       "2      하수처리장을 설치하면 좋지않은 외관과 약취의 문제는 피할 수 없다. 그로인해 지역주...\n",
       "3      만약, 당신의 집 옆에 쓰레기 매립지를 만든다고 하면 당신은 어떤 반응을 보일까요?...\n",
       "4      이번 여름 전주의 한 마을에서 폐기물 매립지가 악취와 주변 지역의 쾌적성이 훼손된다...\n",
       "...                                                  ...\n",
       "13750  요즘 여러가지의 학교폭력이 자주 일어나고 있습니다. 그로인해 여러가지 방안들에대한 ...\n",
       "13751  요즘 많은 아이들이 학교폭력을 겪고있습니다. 학교폭력에는 많은 종류가 있는대요, 신...\n",
       "13752  학교 폭력을 줄이기 위해 우리 같은 학생들이 할 수 있는 일은 생각보다 많습니다. ...\n",
       "13753  요즈음 학교에서 학교폭력, 사이버 폭력을 당하는 학생이 늘어 사회적 문제가 되고 있...\n",
       "13754  학교폭력, 어떻게 줄일까? 요즘, 학교에서 폭력이 점점늘어나고있다. 우리는 어떻게 ...\n",
       "\n",
       "[13755 rows x 1 columns]"
      ]
     },
     "execution_count": 6,
     "metadata": {},
     "output_type": "execute_result"
    }
   ],
   "source": [
    "import pandas as pd\n",
    "\n",
    "df1 = pd.read_csv('./korproject/전처리_AIHUB_대안제시_주장.csv', index_col=0, lineterminator='\\n')\n",
    "df1"
   ]
  },
  {
   "cell_type": "code",
   "execution_count": 4,
   "metadata": {},
   "outputs": [
    {
     "data": {
      "text/html": [
       "<div>\n",
       "<style scoped>\n",
       "    .dataframe tbody tr th:only-of-type {\n",
       "        vertical-align: middle;\n",
       "    }\n",
       "\n",
       "    .dataframe tbody tr th {\n",
       "        vertical-align: top;\n",
       "    }\n",
       "\n",
       "    .dataframe thead th {\n",
       "        text-align: right;\n",
       "    }\n",
       "</style>\n",
       "<table border=\"1\" class=\"dataframe\">\n",
       "  <thead>\n",
       "    <tr style=\"text-align: right;\">\n",
       "      <th></th>\n",
       "      <th>essay_txt</th>\n",
       "    </tr>\n",
       "  </thead>\n",
       "  <tbody>\n",
       "    <tr>\n",
       "      <th>0</th>\n",
       "      <td>혐오시설을 설치하는것은 당연하게도 반발을 얻을 수 밖에 없다. 그이유로는 혐오시설로...</td>\n",
       "    </tr>\n",
       "    <tr>\n",
       "      <th>1</th>\n",
       "      <td>동물장묘시설을 건설함으로써 발생하는 여러 가지 문제들을 해결하기 위한 대안이 몇 가...</td>\n",
       "    </tr>\n",
       "    <tr>\n",
       "      <th>2</th>\n",
       "      <td>하수처리장을 설치하면 좋지않은 외관과 약취의 문제는 피할 수 없다. 그로인해 지역주...</td>\n",
       "    </tr>\n",
       "    <tr>\n",
       "      <th>3</th>\n",
       "      <td>만약, 당신의 집 옆에 쓰레기 매립지를 만든다고 하면 당신은 어떤 반응을 보일까요?...</td>\n",
       "    </tr>\n",
       "    <tr>\n",
       "      <th>4</th>\n",
       "      <td>이번 여름 전주의 한 마을에서 폐기물 매립지가 악취와 주변 지역의 쾌적성이 훼손된다...</td>\n",
       "    </tr>\n",
       "    <tr>\n",
       "      <th>...</th>\n",
       "      <td>...</td>\n",
       "    </tr>\n",
       "    <tr>\n",
       "      <th>13750</th>\n",
       "      <td>요즘 여러가지의 학교폭력이 자주 일어나고 있습니다. 그로인해 여러가지 방안들에대한 ...</td>\n",
       "    </tr>\n",
       "    <tr>\n",
       "      <th>13751</th>\n",
       "      <td>요즘 많은 아이들이 학교폭력을 겪고있습니다. 학교폭력에는 많은 종류가 있는대요, 신...</td>\n",
       "    </tr>\n",
       "    <tr>\n",
       "      <th>13752</th>\n",
       "      <td>학교 폭력을 줄이기 위해 우리 같은 학생들이 할 수 있는 일은 생각보다 많습니다. ...</td>\n",
       "    </tr>\n",
       "    <tr>\n",
       "      <th>13753</th>\n",
       "      <td>요즈음 학교에서 학교폭력, 사이버 폭력을 당하는 학생이 늘어 사회적 문제가 되고 있...</td>\n",
       "    </tr>\n",
       "    <tr>\n",
       "      <th>13754</th>\n",
       "      <td>학교폭력, 어떻게 줄일까? 요즘, 학교에서 폭력이 점점늘어나고있다. 우리는 어떻게 ...</td>\n",
       "    </tr>\n",
       "  </tbody>\n",
       "</table>\n",
       "<p>13755 rows × 1 columns</p>\n",
       "</div>"
      ],
      "text/plain": [
       "                                               essay_txt\n",
       "0      혐오시설을 설치하는것은 당연하게도 반발을 얻을 수 밖에 없다. 그이유로는 혐오시설로...\n",
       "1      동물장묘시설을 건설함으로써 발생하는 여러 가지 문제들을 해결하기 위한 대안이 몇 가...\n",
       "2      하수처리장을 설치하면 좋지않은 외관과 약취의 문제는 피할 수 없다. 그로인해 지역주...\n",
       "3      만약, 당신의 집 옆에 쓰레기 매립지를 만든다고 하면 당신은 어떤 반응을 보일까요?...\n",
       "4      이번 여름 전주의 한 마을에서 폐기물 매립지가 악취와 주변 지역의 쾌적성이 훼손된다...\n",
       "...                                                  ...\n",
       "13750  요즘 여러가지의 학교폭력이 자주 일어나고 있습니다. 그로인해 여러가지 방안들에대한 ...\n",
       "13751  요즘 많은 아이들이 학교폭력을 겪고있습니다. 학교폭력에는 많은 종류가 있는대요, 신...\n",
       "13752  학교 폭력을 줄이기 위해 우리 같은 학생들이 할 수 있는 일은 생각보다 많습니다. ...\n",
       "13753  요즈음 학교에서 학교폭력, 사이버 폭력을 당하는 학생이 늘어 사회적 문제가 되고 있...\n",
       "13754  학교폭력, 어떻게 줄일까? 요즘, 학교에서 폭력이 점점늘어나고있다. 우리는 어떻게 ...\n",
       "\n",
       "[13755 rows x 1 columns]"
      ]
     },
     "execution_count": 4,
     "metadata": {},
     "output_type": "execute_result"
    }
   ],
   "source": [
    "for i in range(len(df1)):\n",
    "    df1.iloc[i,0] = df1.iloc[i,0].replace('  ',\" \")\n",
    "df1"
   ]
  },
  {
   "cell_type": "code",
   "execution_count": 5,
   "metadata": {},
   "outputs": [],
   "source": [
    "df1.to_csv('./korproject/전처리_AIHUB_대안제시_주장.csv')"
   ]
  }
 ],
 "metadata": {
  "kernelspec": {
   "display_name": "base",
   "language": "python",
   "name": "python3"
  },
  "language_info": {
   "codemirror_mode": {
    "name": "ipython",
    "version": 3
   },
   "file_extension": ".py",
   "mimetype": "text/x-python",
   "name": "python",
   "nbconvert_exporter": "python",
   "pygments_lexer": "ipython3",
   "version": "3.8.8"
  },
  "orig_nbformat": 4,
  "vscode": {
   "interpreter": {
    "hash": "99fd66ae4cad5bb81cb48349b8584613497156a55678f3416493d54258ccfcc6"
   }
  }
 },
 "nbformat": 4,
 "nbformat_minor": 2
}
